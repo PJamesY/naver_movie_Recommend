{
 "cells": [
  {
   "cell_type": "markdown",
   "metadata": {
    "colab_type": "text",
    "id": "Ux40MLdwqbeQ"
   },
   "source": [
    "# 1. <big>프로젝트 개요</big>"
   ]
  },
  {
   "cell_type": "markdown",
   "metadata": {
    "colab_type": "text",
    "id": "tNaQtRLoqmj8"
   },
   "source": [
    "## 1.1 프로젝트 명 및 기간"
   ]
  },
  {
   "cell_type": "markdown",
   "metadata": {
    "colab_type": "text",
    "id": "KIF-yWEyqn3J"
   },
   "source": [
    "### - 프로젝트 명 : <span style=color:green>네이버</span> 영화 추천 알고리즘\n",
    "### - 프로젝트 기간 : `2018.01.17 ~ 2018.3 (1.5 개월)`"
   ]
  },
  {
   "cell_type": "markdown",
   "metadata": {
    "colab_type": "text",
    "id": "hhOsAljKq4FI"
   },
   "source": [
    "## 1.2 프로젝트 `목표`"
   ]
  },
  {
   "cell_type": "markdown",
   "metadata": {
    "colab_type": "text",
    "id": "-fiWPNBPrGQA"
   },
   "source": [
    "### - User 에게 가장 알맞은 `추천 영화` 목록 제공"
   ]
  },
  {
   "cell_type": "markdown",
   "metadata": {
    "colab_type": "text",
    "id": "pHFhlDNPrKUf"
   },
   "source": [
    "## 1.3 프로젝트 `진행 방향`\n"
   ]
  },
  {
   "cell_type": "markdown",
   "metadata": {
    "colab_type": "text",
    "id": "Om5hlWZprNzM"
   },
   "source": [
    "### - Sparse matrix 알고리즘을 풀기위해 matrix factorization / Deep learning 적용"
   ]
  },
  {
   "cell_type": "markdown",
   "metadata": {
    "colab_type": "text",
    "id": "DsE_anlorV4q"
   },
   "source": [
    "텍스트에 사용되는 word2vec을 movie list를 벡터화 해서 movie2vec 을 적용해서 추천 알고리즘 구현"
   ]
  },
  {
   "cell_type": "code",
   "execution_count": 110,
   "metadata": {
    "colab": {
     "base_uri": "https://localhost:8080/",
     "height": 149
    },
    "colab_type": "code",
    "id": "NU6Vpm0xrpbV",
    "outputId": "2b352420-467d-4652-b392-8d2d386e068e"
   },
   "outputs": [],
   "source": [
    "import tensorflow as tf\n",
    "import pandas as pd\n",
    "import numpy as np\n",
    "from pandas import pivot_table\n",
    "import io\n",
    "\n",
    "import pickle\n",
    "\n",
    "\n",
    "%matplotlib inline  \n",
    "import matplotlib as mpl  # 기본 설정 만지는 용도\n",
    "import matplotlib.pyplot as plt  # 그래프 그리는 용도\n",
    "import matplotlib.font_manager as fm  # 폰트 관련 용도\n",
    "import seaborn as sns\n",
    "\n",
    "\n",
    "from scipy import spatial\n",
    "from sklearn.model_selection import train_test_split\n",
    "from sklearn.metrics import mean_absolute_error\n",
    "from IPython.display import SVG\n",
    "\n",
    "import keras\n",
    "from keras.optimizers import Adam\n",
    "from keras.utils.vis_utils import model_to_dot\n",
    "from keras.constraints import non_neg\n",
    "from keras.utils.vis_utils import model_to_dot\n",
    "from keras.layers import Input, Dense, Embedding, Reshape, Dot, Concatenate, Dropout, Flatten, BatchNormalization\n",
    "from keras.models import Model, Sequential, load_model\n",
    "from keras.callbacks import ModelCheckpoint\n",
    "tf.logging.set_verbosity(tf.logging.ERROR)\n",
    "\n",
    "# from surprise import Reader, Dataset\n",
    "# from surprise import SVD, evaluate\n",
    "# from surprise import NMF"
   ]
  },
  {
   "cell_type": "markdown",
   "metadata": {
    "colab_type": "text",
    "id": "Jkpj3_0lxcF0"
   },
   "source": [
    "# 2. <big>데이터</big>"
   ]
  },
  {
   "cell_type": "markdown",
   "metadata": {
    "colab_type": "text",
    "id": "eRUdZOPBx3xt"
   },
   "source": [
    "## 2-1. 데이터 `크롤링`\n",
    "    - 네이버 영화 평점 사이트(https://movie.naver.com/movie/point/af/list.nhn)에서 데이터 크롤링(BeautifulSoup 이용)\n",
    "    - crontab 이용(movie_crawling(server).py) 30분 간격으로 데이터 추가 및 업데이트\n",
    "    - csv파일로 저장"
   ]
  },
  {
   "cell_type": "markdown",
   "metadata": {
    "colab_type": "text",
    "id": "lsEIP0fPyE_B"
   },
   "source": [
    "## 2.2 데이터 `확인 / 분석`"
   ]
  },
  {
   "cell_type": "markdown",
   "metadata": {
    "colab_type": "text",
    "id": "LXTPHkMNvvFl"
   },
   "source": [
    "### 데이터 불러오기\n",
    "- rows : `181041`\n",
    "- columns : `3(movie, name, point)`"
   ]
  },
  {
   "cell_type": "code",
   "execution_count": 68,
   "metadata": {
    "colab": {
     "base_uri": "https://localhost:8080/",
     "height": 202
    },
    "colab_type": "code",
    "id": "gj2RpUMaa8mq",
    "outputId": "bca04e74-e449-49c2-8448-6724bd2c6cca"
   },
   "outputs": [
    {
     "data": {
      "text/html": [
       "<div>\n",
       "<style scoped>\n",
       "    .dataframe tbody tr th:only-of-type {\n",
       "        vertical-align: middle;\n",
       "    }\n",
       "\n",
       "    .dataframe tbody tr th {\n",
       "        vertical-align: top;\n",
       "    }\n",
       "\n",
       "    .dataframe thead th {\n",
       "        text-align: right;\n",
       "    }\n",
       "</style>\n",
       "<table border=\"1\" class=\"dataframe\">\n",
       "  <thead>\n",
       "    <tr style=\"text-align: right;\">\n",
       "      <th></th>\n",
       "      <th>title</th>\n",
       "      <th>user</th>\n",
       "      <th>rating</th>\n",
       "    </tr>\n",
       "  </thead>\n",
       "  <tbody>\n",
       "    <tr>\n",
       "      <th>181037</th>\n",
       "      <td>에브리타임 룩 앳 유</td>\n",
       "      <td>yhib****</td>\n",
       "      <td>9</td>\n",
       "    </tr>\n",
       "    <tr>\n",
       "      <th>181038</th>\n",
       "      <td>허비 행콕 : 무한한 가능성</td>\n",
       "      <td>heyh****</td>\n",
       "      <td>10</td>\n",
       "    </tr>\n",
       "    <tr>\n",
       "      <th>181039</th>\n",
       "      <td>뺑반</td>\n",
       "      <td>ehca****</td>\n",
       "      <td>7</td>\n",
       "    </tr>\n",
       "    <tr>\n",
       "      <th>181040</th>\n",
       "      <td>이스케이프 룸</td>\n",
       "      <td>ekdn****</td>\n",
       "      <td>10</td>\n",
       "    </tr>\n",
       "    <tr>\n",
       "      <th>181041</th>\n",
       "      <td>이스케이프 룸</td>\n",
       "      <td>klee****</td>\n",
       "      <td>7</td>\n",
       "    </tr>\n",
       "  </tbody>\n",
       "</table>\n",
       "</div>"
      ],
      "text/plain": [
       "                  title      user  rating\n",
       "181037      에브리타임 룩 앳 유  yhib****       9\n",
       "181038  허비 행콕 : 무한한 가능성  heyh****      10\n",
       "181039               뺑반  ehca****       7\n",
       "181040          이스케이프 룸  ekdn****      10\n",
       "181041          이스케이프 룸  klee****       7"
      ]
     },
     "execution_count": 68,
     "metadata": {},
     "output_type": "execute_result"
    }
   ],
   "source": [
    "df = pd.read_csv('movie_point.csv')\n",
    "df = df[['movie','name','point']]\n",
    "df.columns = ['title', 'user', 'rating']\n",
    "df.tail()"
   ]
  },
  {
   "cell_type": "markdown",
   "metadata": {
    "colab_type": "text",
    "id": "D032P2NBwSq0"
   },
   "source": [
    "### rating 점수 범위\n",
    "- `1점 ~ 10점`\n",
    "\n",
    "\n"
   ]
  },
  {
   "cell_type": "code",
   "execution_count": 69,
   "metadata": {
    "colab": {
     "base_uri": "https://localhost:8080/",
     "height": 36
    },
    "colab_type": "code",
    "id": "S8m3C3kIwa1o",
    "outputId": "4b5c4e2a-05d8-4977-965b-8f39d1c05d91"
   },
   "outputs": [
    {
     "name": "stdout",
     "output_type": "stream",
     "text": [
      "rating range : [1, 2, 3, 4, 5, 6, 7, 8, 9, 10]\n"
     ]
    }
   ],
   "source": [
    "print('rating range :',sorted(df['rating'].unique()) )"
   ]
  },
  {
   "cell_type": "markdown",
   "metadata": {
    "colab_type": "text",
    "id": "0DXzzyUYw2xp"
   },
   "source": [
    "### User와 Movie 고유 번호 할당"
   ]
  },
  {
   "cell_type": "code",
   "execution_count": 70,
   "metadata": {
    "colab": {
     "base_uri": "https://localhost:8080/",
     "height": 221
    },
    "colab_type": "code",
    "id": "yCim37ONaFpw",
    "outputId": "c70ae738-07ce-422c-e37f-88721bf1a23d"
   },
   "outputs": [
    {
     "name": "stdout",
     "output_type": "stream",
     "text": [
      "181042\n"
     ]
    },
    {
     "data": {
      "text/html": [
       "<div>\n",
       "<style scoped>\n",
       "    .dataframe tbody tr th:only-of-type {\n",
       "        vertical-align: middle;\n",
       "    }\n",
       "\n",
       "    .dataframe tbody tr th {\n",
       "        vertical-align: top;\n",
       "    }\n",
       "\n",
       "    .dataframe thead th {\n",
       "        text-align: right;\n",
       "    }\n",
       "</style>\n",
       "<table border=\"1\" class=\"dataframe\">\n",
       "  <thead>\n",
       "    <tr style=\"text-align: right;\">\n",
       "      <th></th>\n",
       "      <th>index</th>\n",
       "      <th>title</th>\n",
       "      <th>user</th>\n",
       "      <th>rating</th>\n",
       "      <th>user_id</th>\n",
       "      <th>movie_id</th>\n",
       "    </tr>\n",
       "  </thead>\n",
       "  <tbody>\n",
       "    <tr>\n",
       "      <th>181037</th>\n",
       "      <td>181037</td>\n",
       "      <td>에브리타임 룩 앳 유</td>\n",
       "      <td>yhib****</td>\n",
       "      <td>9</td>\n",
       "      <td>64332</td>\n",
       "      <td>3701</td>\n",
       "    </tr>\n",
       "    <tr>\n",
       "      <th>181038</th>\n",
       "      <td>181038</td>\n",
       "      <td>허비 행콕 : 무한한 가능성</td>\n",
       "      <td>heyh****</td>\n",
       "      <td>10</td>\n",
       "      <td>22822</td>\n",
       "      <td>5715</td>\n",
       "    </tr>\n",
       "    <tr>\n",
       "      <th>181039</th>\n",
       "      <td>181039</td>\n",
       "      <td>뺑반</td>\n",
       "      <td>ehca****</td>\n",
       "      <td>7</td>\n",
       "      <td>16514</td>\n",
       "      <td>2614</td>\n",
       "    </tr>\n",
       "    <tr>\n",
       "      <th>181040</th>\n",
       "      <td>181040</td>\n",
       "      <td>이스케이프 룸</td>\n",
       "      <td>ekdn****</td>\n",
       "      <td>10</td>\n",
       "      <td>16851</td>\n",
       "      <td>4235</td>\n",
       "    </tr>\n",
       "    <tr>\n",
       "      <th>181041</th>\n",
       "      <td>181041</td>\n",
       "      <td>이스케이프 룸</td>\n",
       "      <td>klee****</td>\n",
       "      <td>7</td>\n",
       "      <td>33580</td>\n",
       "      <td>4235</td>\n",
       "    </tr>\n",
       "  </tbody>\n",
       "</table>\n",
       "</div>"
      ],
      "text/plain": [
       "         index            title      user  rating  user_id  movie_id\n",
       "181037  181037      에브리타임 룩 앳 유  yhib****       9    64332      3701\n",
       "181038  181038  허비 행콕 : 무한한 가능성  heyh****      10    22822      5715\n",
       "181039  181039               뺑반  ehca****       7    16514      2614\n",
       "181040  181040          이스케이프 룸  ekdn****      10    16851      4235\n",
       "181041  181041          이스케이프 룸  klee****       7    33580      4235"
      ]
     },
     "execution_count": 70,
     "metadata": {},
     "output_type": "execute_result"
    }
   ],
   "source": [
    "df[\"user_id\"] = df.user.astype('category').cat.codes.values\n",
    "df[\"movie_id\"] = df.title.astype('category').cat.codes.values\n",
    "df = df[['title','user','rating','user_id','movie_id']]\n",
    "df = df.reset_index()\n",
    "print(len(df))\n",
    "df.tail()"
   ]
  },
  {
   "cell_type": "markdown",
   "metadata": {
    "colab_type": "text",
    "id": "rknK-Uz9zzwU"
   },
   "source": [
    "### 각 user가 평점(rating)를 준 영화의 갯수\n",
    "\n"
   ]
  },
  {
   "cell_type": "markdown",
   "metadata": {
    "colab_type": "text",
    "id": "AHGEn4lo14xm"
   },
   "source": [
    "*   평균적으로 한명의 user는 2 ~ 3개의 영화에 별점을 주었다\n",
    "\n",
    "*   영화 평가를 가장 많이한 사람은 총 277편에 영화 평점을 주었다\n",
    "\n",
    "\n"
   ]
  },
  {
   "cell_type": "code",
   "execution_count": 71,
   "metadata": {
    "colab": {
     "base_uri": "https://localhost:8080/",
     "height": 185
    },
    "colab_type": "code",
    "id": "dGZbliwZ10vM",
    "outputId": "38c9c41b-d919-4990-aeb6-94be0efdf3a5"
   },
   "outputs": [
    {
     "data": {
      "text/plain": [
       "count    67306.000000\n",
       "mean         2.689834\n",
       "std          5.305393\n",
       "min          1.000000\n",
       "25%          1.000000\n",
       "50%          1.000000\n",
       "75%          2.000000\n",
       "max        277.000000\n",
       "Name: nb_lines, dtype: float64"
      ]
     },
     "execution_count": 71,
     "metadata": {},
     "output_type": "execute_result"
    }
   ],
   "source": [
    "users_nb = df['user_id'].value_counts().reset_index()\n",
    "users_nb.columns = ['user_id', 'nb_lines']\n",
    "users_nb['nb_lines'].describe()"
   ]
  },
  {
   "cell_type": "code",
   "execution_count": 73,
   "metadata": {
    "colab": {
     "base_uri": "https://localhost:8080/",
     "height": 202
    },
    "colab_type": "code",
    "id": "JDRT2cTgxpkF",
    "outputId": "66169657-ab1c-4d4b-e57d-4795596e2673",
    "scrolled": true
   },
   "outputs": [
    {
     "data": {
      "text/html": [
       "<div>\n",
       "<style scoped>\n",
       "    .dataframe tbody tr th:only-of-type {\n",
       "        vertical-align: middle;\n",
       "    }\n",
       "\n",
       "    .dataframe tbody tr th {\n",
       "        vertical-align: top;\n",
       "    }\n",
       "\n",
       "    .dataframe thead th {\n",
       "        text-align: right;\n",
       "    }\n",
       "</style>\n",
       "<table border=\"1\" class=\"dataframe\">\n",
       "  <thead>\n",
       "    <tr style=\"text-align: right;\">\n",
       "      <th></th>\n",
       "      <th>index</th>\n",
       "      <th>title</th>\n",
       "      <th>user</th>\n",
       "      <th>rating</th>\n",
       "      <th>user_id</th>\n",
       "      <th>movie_id</th>\n",
       "      <th>nb_lines</th>\n",
       "    </tr>\n",
       "  </thead>\n",
       "  <tbody>\n",
       "    <tr>\n",
       "      <th>181037</th>\n",
       "      <td>180983</td>\n",
       "      <td>범죄와의 전쟁 : 나쁜놈들 전성시대</td>\n",
       "      <td>bspx****</td>\n",
       "      <td>10</td>\n",
       "      <td>9305</td>\n",
       "      <td>2315</td>\n",
       "      <td>1</td>\n",
       "    </tr>\n",
       "    <tr>\n",
       "      <th>181038</th>\n",
       "      <td>180984</td>\n",
       "      <td>캡틴 마블</td>\n",
       "      <td>hull****</td>\n",
       "      <td>10</td>\n",
       "      <td>24704</td>\n",
       "      <td>4855</td>\n",
       "      <td>1</td>\n",
       "    </tr>\n",
       "    <tr>\n",
       "      <th>181039</th>\n",
       "      <td>181006</td>\n",
       "      <td>1919 유관순</td>\n",
       "      <td>sk30****</td>\n",
       "      <td>10</td>\n",
       "      <td>53508</td>\n",
       "      <td>31</td>\n",
       "      <td>1</td>\n",
       "    </tr>\n",
       "    <tr>\n",
       "      <th>181040</th>\n",
       "      <td>181012</td>\n",
       "      <td>캡틴 마블</td>\n",
       "      <td>eatt****</td>\n",
       "      <td>10</td>\n",
       "      <td>16144</td>\n",
       "      <td>4855</td>\n",
       "      <td>1</td>\n",
       "    </tr>\n",
       "    <tr>\n",
       "      <th>181041</th>\n",
       "      <td>181019</td>\n",
       "      <td>더 페이버릿: 여왕의 여자</td>\n",
       "      <td>sadg****</td>\n",
       "      <td>10</td>\n",
       "      <td>51195</td>\n",
       "      <td>1178</td>\n",
       "      <td>1</td>\n",
       "    </tr>\n",
       "  </tbody>\n",
       "</table>\n",
       "</div>"
      ],
      "text/plain": [
       "         index                title      user  rating  user_id  movie_id  \\\n",
       "181037  180983  범죄와의 전쟁 : 나쁜놈들 전성시대  bspx****      10     9305      2315   \n",
       "181038  180984                캡틴 마블  hull****      10    24704      4855   \n",
       "181039  181006             1919 유관순  sk30****      10    53508        31   \n",
       "181040  181012                캡틴 마블  eatt****      10    16144      4855   \n",
       "181041  181019       더 페이버릿: 여왕의 여자  sadg****      10    51195      1178   \n",
       "\n",
       "        nb_lines  \n",
       "181037         1  \n",
       "181038         1  \n",
       "181039         1  \n",
       "181040         1  \n",
       "181041         1  "
      ]
     },
     "execution_count": 73,
     "metadata": {},
     "output_type": "execute_result"
    }
   ],
   "source": [
    "df = pd.merge(df, users_nb, on='user_id')\n",
    "df.tail()"
   ]
  },
  {
   "cell_type": "code",
   "execution_count": 74,
   "metadata": {
    "colab": {
     "base_uri": "https://localhost:8080/",
     "height": 350
    },
    "colab_type": "code",
    "id": "H3ZIzZ6ZxpV5",
    "outputId": "22f3b56a-c9f3-4c2b-a8cd-a21f9c189d5e"
   },
   "outputs": [
    {
     "data": {
      "text/plain": [
       "Text(0.5, 0, '한 user당 평점을 준 갯수')"
      ]
     },
     "execution_count": 74,
     "metadata": {},
     "output_type": "execute_result"
    },
    {
     "data": {
      "image/png": "[encoded data removed]",
      "text/plain": [
       "<Figure size 432x288 with 1 Axes>"
      ]
     },
     "metadata": {
      "needs_background": "light"
     },
     "output_type": "display_data"
    }
   ],
   "source": [
    "plt.title(\"Distribution of the number of ratings per users\")\n",
    "test_plot = sns.distplot(df['nb_lines'])\n",
    "plt.xlabel('한 user당 평점을 준 갯수')\n",
    "# test_plot.set_xticks(np.arange(1,20,1))"
   ]
  },
  {
   "cell_type": "markdown",
   "metadata": {
    "colab_type": "text",
    "id": "VS7eHVjUzzrm"
   },
   "source": [
    "### 영화 별 point 받은 횟수"
   ]
  },
  {
   "cell_type": "markdown",
   "metadata": {
    "colab_type": "text",
    "id": "wtQKKx5q2XVn"
   },
   "source": [
    "*   평균적으로 한 영화는 **30**개의 평점(rating)을 받았다 \n",
    "\n",
    "*   평점을 가장 많이 받은 영화는 총 20081개의 평점을 받았다\n"
   ]
  },
  {
   "cell_type": "code",
   "execution_count": 76,
   "metadata": {
    "colab": {
     "base_uri": "https://localhost:8080/",
     "height": 185
    },
    "colab_type": "code",
    "id": "iPLPPys8hpB5",
    "outputId": "71769b50-0367-4244-ac83-a414945eb31b"
   },
   "outputs": [
    {
     "data": {
      "text/plain": [
       "count     5897.000000\n",
       "mean        30.700695\n",
       "std        445.433033\n",
       "min          1.000000\n",
       "25%          1.000000\n",
       "50%          2.000000\n",
       "75%          7.000000\n",
       "max      20081.000000\n",
       "Name: nb_movie_lines, dtype: float64"
      ]
     },
     "execution_count": 76,
     "metadata": {},
     "output_type": "execute_result"
    }
   ],
   "source": [
    "movies_nb = df['movie_id'].value_counts().reset_index()\n",
    "movies_nb.columns = ['movie_id', 'nb_movie_lines']\n",
    "movies_nb['nb_movie_lines'].describe()"
   ]
  },
  {
   "cell_type": "code",
   "execution_count": 77,
   "metadata": {
    "colab": {
     "base_uri": "https://localhost:8080/",
     "height": 202
    },
    "colab_type": "code",
    "id": "APpw7YBq63Wy",
    "outputId": "23b93617-33c6-46b9-da86-48482f44f556"
   },
   "outputs": [
    {
     "data": {
      "text/html": [
       "<div>\n",
       "<style scoped>\n",
       "    .dataframe tbody tr th:only-of-type {\n",
       "        vertical-align: middle;\n",
       "    }\n",
       "\n",
       "    .dataframe tbody tr th {\n",
       "        vertical-align: top;\n",
       "    }\n",
       "\n",
       "    .dataframe thead th {\n",
       "        text-align: right;\n",
       "    }\n",
       "</style>\n",
       "<table border=\"1\" class=\"dataframe\">\n",
       "  <thead>\n",
       "    <tr style=\"text-align: right;\">\n",
       "      <th></th>\n",
       "      <th>title</th>\n",
       "      <th>user</th>\n",
       "      <th>rating</th>\n",
       "      <th>user_id</th>\n",
       "      <th>movie_id</th>\n",
       "      <th>nb_lines</th>\n",
       "      <th>nb_movie_lines</th>\n",
       "    </tr>\n",
       "  </thead>\n",
       "  <tbody>\n",
       "    <tr>\n",
       "      <th>181037</th>\n",
       "      <td>거북이는 의외로 빨리 헤엄친다</td>\n",
       "      <td>dpdd****</td>\n",
       "      <td>6</td>\n",
       "      <td>15263</td>\n",
       "      <td>355</td>\n",
       "      <td>1</td>\n",
       "      <td>1</td>\n",
       "    </tr>\n",
       "    <tr>\n",
       "      <th>181038</th>\n",
       "      <td>베른의 기적</td>\n",
       "      <td>zasw****</td>\n",
       "      <td>6</td>\n",
       "      <td>66255</td>\n",
       "      <td>2327</td>\n",
       "      <td>1</td>\n",
       "      <td>1</td>\n",
       "    </tr>\n",
       "    <tr>\n",
       "      <th>181039</th>\n",
       "      <td>사랑할 때 이야기하는 것들</td>\n",
       "      <td>cki5****</td>\n",
       "      <td>10</td>\n",
       "      <td>11310</td>\n",
       "      <td>2671</td>\n",
       "      <td>1</td>\n",
       "      <td>1</td>\n",
       "    </tr>\n",
       "    <tr>\n",
       "      <th>181040</th>\n",
       "      <td>고티카</td>\n",
       "      <td>liol****</td>\n",
       "      <td>10</td>\n",
       "      <td>36934</td>\n",
       "      <td>440</td>\n",
       "      <td>1</td>\n",
       "      <td>1</td>\n",
       "    </tr>\n",
       "    <tr>\n",
       "      <th>181041</th>\n",
       "      <td>어떤살인</td>\n",
       "      <td>wqeg****</td>\n",
       "      <td>10</td>\n",
       "      <td>62358</td>\n",
       "      <td>3598</td>\n",
       "      <td>1</td>\n",
       "      <td>1</td>\n",
       "    </tr>\n",
       "  </tbody>\n",
       "</table>\n",
       "</div>"
      ],
      "text/plain": [
       "                   title      user  rating  user_id  movie_id  nb_lines  \\\n",
       "181037  거북이는 의외로 빨리 헤엄친다  dpdd****       6    15263       355         1   \n",
       "181038            베른의 기적  zasw****       6    66255      2327         1   \n",
       "181039    사랑할 때 이야기하는 것들  cki5****      10    11310      2671         1   \n",
       "181040               고티카  liol****      10    36934       440         1   \n",
       "181041              어떤살인  wqeg****      10    62358      3598         1   \n",
       "\n",
       "        nb_movie_lines  \n",
       "181037               1  \n",
       "181038               1  \n",
       "181039               1  \n",
       "181040               1  \n",
       "181041               1  "
      ]
     },
     "execution_count": 77,
     "metadata": {},
     "output_type": "execute_result"
    }
   ],
   "source": [
    "df = pd.merge(df, movies_nb, on='movie_id')\n",
    "df = df.drop('index', 1)\n",
    "df.tail()"
   ]
  },
  {
   "cell_type": "code",
   "execution_count": 78,
   "metadata": {
    "colab": {
     "base_uri": "https://localhost:8080/",
     "height": 369
    },
    "colab_type": "code",
    "id": "eJG9gtpDqz_O",
    "outputId": "bf709c13-710b-44a7-d3c7-fe5d7eacfbbb"
   },
   "outputs": [
    {
     "data": {
      "text/plain": [
       "Text(0, 0.5, '각 영화가 별점을 받은 갯수')"
      ]
     },
     "execution_count": 78,
     "metadata": {},
     "output_type": "execute_result"
    },
    {
     "data": {
      "image/png": "[encoded data removed]",
      "text/plain": [
       "<Figure size 432x288 with 1 Axes>"
      ]
     },
     "metadata": {
      "needs_background": "light"
     },
     "output_type": "display_data"
    }
   ],
   "source": [
    "plt.title(\"Distribution of the number of ratings per movies\")\n",
    "\n",
    "sns.distplot(df['nb_movie_lines'])\n",
    "plt.ylabel('각 영화가 별점을 받은 갯수')"
   ]
  },
  {
   "cell_type": "markdown",
   "metadata": {
    "colab_type": "text",
    "id": "7NuT4hIhzz2_"
   },
   "source": [
    "### 각 평점별 평점 갯수"
   ]
  },
  {
   "cell_type": "code",
   "execution_count": 79,
   "metadata": {
    "colab": {
     "base_uri": "https://localhost:8080/",
     "height": 386
    },
    "colab_type": "code",
    "id": "DbrE8o6yz1dF",
    "outputId": "07942a5e-e8d4-43e8-c259-cfe65d901745"
   },
   "outputs": [
    {
     "data": {
      "text/html": [
       "<div>\n",
       "<style scoped>\n",
       "    .dataframe tbody tr th:only-of-type {\n",
       "        vertical-align: middle;\n",
       "    }\n",
       "\n",
       "    .dataframe tbody tr th {\n",
       "        vertical-align: top;\n",
       "    }\n",
       "\n",
       "    .dataframe thead th {\n",
       "        text-align: right;\n",
       "    }\n",
       "</style>\n",
       "<table border=\"1\" class=\"dataframe\">\n",
       "  <thead>\n",
       "    <tr style=\"text-align: right;\">\n",
       "      <th></th>\n",
       "      <th>rating_count</th>\n",
       "    </tr>\n",
       "    <tr>\n",
       "      <th>rating</th>\n",
       "      <th></th>\n",
       "    </tr>\n",
       "  </thead>\n",
       "  <tbody>\n",
       "    <tr>\n",
       "      <th>1</th>\n",
       "      <td>22338</td>\n",
       "    </tr>\n",
       "    <tr>\n",
       "      <th>2</th>\n",
       "      <td>7335</td>\n",
       "    </tr>\n",
       "    <tr>\n",
       "      <th>3</th>\n",
       "      <td>1464</td>\n",
       "    </tr>\n",
       "    <tr>\n",
       "      <th>4</th>\n",
       "      <td>4393</td>\n",
       "    </tr>\n",
       "    <tr>\n",
       "      <th>5</th>\n",
       "      <td>3132</td>\n",
       "    </tr>\n",
       "    <tr>\n",
       "      <th>6</th>\n",
       "      <td>8848</td>\n",
       "    </tr>\n",
       "    <tr>\n",
       "      <th>7</th>\n",
       "      <td>6094</td>\n",
       "    </tr>\n",
       "    <tr>\n",
       "      <th>8</th>\n",
       "      <td>18430</td>\n",
       "    </tr>\n",
       "    <tr>\n",
       "      <th>9</th>\n",
       "      <td>10535</td>\n",
       "    </tr>\n",
       "    <tr>\n",
       "      <th>10</th>\n",
       "      <td>98473</td>\n",
       "    </tr>\n",
       "  </tbody>\n",
       "</table>\n",
       "</div>"
      ],
      "text/plain": [
       "        rating_count\n",
       "rating              \n",
       "1              22338\n",
       "2               7335\n",
       "3               1464\n",
       "4               4393\n",
       "5               3132\n",
       "6               8848\n",
       "7               6094\n",
       "8              18430\n",
       "9              10535\n",
       "10             98473"
      ]
     },
     "execution_count": 79,
     "metadata": {},
     "output_type": "execute_result"
    }
   ],
   "source": [
    "df_count = df.groupby('rating').size().reset_index(name = \"rating_count\")\n",
    "df_count = df_count.set_index('rating')\n",
    "df_count"
   ]
  },
  {
   "cell_type": "code",
   "execution_count": 80,
   "metadata": {
    "colab": {
     "base_uri": "https://localhost:8080/",
     "height": 350
    },
    "colab_type": "code",
    "id": "LyLbtl21z-wY",
    "outputId": "86bf9182-6483-434e-839e-8ed2fc427980"
   },
   "outputs": [
    {
     "data": {
      "text/plain": [
       "Text(0.5, 0, 'rating')"
      ]
     },
     "execution_count": 80,
     "metadata": {},
     "output_type": "execute_result"
    },
    {
     "data": {
      "image/png": "[encoded data removed]",
      "text/plain": [
       "<Figure size 432x288 with 1 Axes>"
      ]
     },
     "metadata": {
      "needs_background": "light"
     },
     "output_type": "display_data"
    }
   ],
   "source": [
    "plt.title('평점별 평점 총 갯수')\n",
    "sns.barplot(x = df_count.index, y = df_count['rating_count'])\n",
    "plt.ylabel('rating 갯수')\n",
    "plt.xlabel('rating')"
   ]
  },
  {
   "cell_type": "markdown",
   "metadata": {},
   "source": [
    "### 평균 평점 영화 순위\n"
   ]
  },
  {
   "cell_type": "code",
   "execution_count": 81,
   "metadata": {},
   "outputs": [
    {
     "data": {
      "text/html": [
       "<div>\n",
       "<style scoped>\n",
       "    .dataframe tbody tr th:only-of-type {\n",
       "        vertical-align: middle;\n",
       "    }\n",
       "\n",
       "    .dataframe tbody tr th {\n",
       "        vertical-align: top;\n",
       "    }\n",
       "\n",
       "    .dataframe thead th {\n",
       "        text-align: right;\n",
       "    }\n",
       "</style>\n",
       "<table border=\"1\" class=\"dataframe\">\n",
       "  <thead>\n",
       "    <tr style=\"text-align: right;\">\n",
       "      <th></th>\n",
       "      <th>rating</th>\n",
       "    </tr>\n",
       "    <tr>\n",
       "      <th>title</th>\n",
       "      <th></th>\n",
       "    </tr>\n",
       "  </thead>\n",
       "  <tbody>\n",
       "    <tr>\n",
       "      <th>...ing</th>\n",
       "      <td>10.0</td>\n",
       "    </tr>\n",
       "    <tr>\n",
       "      <th>달의 연인 - 보보경심 려</th>\n",
       "      <td>10.0</td>\n",
       "    </tr>\n",
       "    <tr>\n",
       "      <th>대한민국 1%</th>\n",
       "      <td>10.0</td>\n",
       "    </tr>\n",
       "    <tr>\n",
       "      <th>대탈주</th>\n",
       "      <td>10.0</td>\n",
       "    </tr>\n",
       "    <tr>\n",
       "      <th>아틀란티스 - 잃어버린 제국</th>\n",
       "      <td>10.0</td>\n",
       "    </tr>\n",
       "    <tr>\n",
       "      <th>아폴로 13</th>\n",
       "      <td>10.0</td>\n",
       "    </tr>\n",
       "    <tr>\n",
       "      <th>아프리칸 닥터</th>\n",
       "      <td>10.0</td>\n",
       "    </tr>\n",
       "    <tr>\n",
       "      <th>악의교전</th>\n",
       "      <td>10.0</td>\n",
       "    </tr>\n",
       "    <tr>\n",
       "      <th>대부업자:소울 앤 캐시</th>\n",
       "      <td>10.0</td>\n",
       "    </tr>\n",
       "    <tr>\n",
       "      <th>악인</th>\n",
       "      <td>10.0</td>\n",
       "    </tr>\n",
       "    <tr>\n",
       "      <th>안경</th>\n",
       "      <td>10.0</td>\n",
       "    </tr>\n",
       "    <tr>\n",
       "      <th>안녕, 형아</th>\n",
       "      <td>10.0</td>\n",
       "    </tr>\n",
       "    <tr>\n",
       "      <th>암살교실</th>\n",
       "      <td>10.0</td>\n",
       "    </tr>\n",
       "    <tr>\n",
       "      <th>앗싸! 호랑나비</th>\n",
       "      <td>10.0</td>\n",
       "    </tr>\n",
       "    <tr>\n",
       "      <th>대결</th>\n",
       "      <td>10.0</td>\n",
       "    </tr>\n",
       "    <tr>\n",
       "      <th>애니매트릭스 - 오시리스 최후의 비행</th>\n",
       "      <td>10.0</td>\n",
       "    </tr>\n",
       "    <tr>\n",
       "      <th>애비</th>\n",
       "      <td>10.0</td>\n",
       "    </tr>\n",
       "    <tr>\n",
       "      <th>당신이 그녀라면</th>\n",
       "      <td>10.0</td>\n",
       "    </tr>\n",
       "    <tr>\n",
       "      <th>애정의 조건</th>\n",
       "      <td>10.0</td>\n",
       "    </tr>\n",
       "    <tr>\n",
       "      <th>당신을 오랫동안 사랑했어요</th>\n",
       "      <td>10.0</td>\n",
       "    </tr>\n",
       "  </tbody>\n",
       "</table>\n",
       "</div>"
      ],
      "text/plain": [
       "                      rating\n",
       "title                       \n",
       "...ing                  10.0\n",
       "달의 연인 - 보보경심 려          10.0\n",
       "대한민국 1%                 10.0\n",
       "대탈주                     10.0\n",
       "아틀란티스 - 잃어버린 제국         10.0\n",
       "아폴로 13                  10.0\n",
       "아프리칸 닥터                 10.0\n",
       "악의교전                    10.0\n",
       "대부업자:소울 앤 캐시            10.0\n",
       "악인                      10.0\n",
       "안경                      10.0\n",
       "안녕, 형아                  10.0\n",
       "암살교실                    10.0\n",
       "앗싸! 호랑나비                10.0\n",
       "대결                      10.0\n",
       "애니매트릭스 - 오시리스 최후의 비행    10.0\n",
       "애비                      10.0\n",
       "당신이 그녀라면                10.0\n",
       "애정의 조건                  10.0\n",
       "당신을 오랫동안 사랑했어요          10.0"
      ]
     },
     "execution_count": 81,
     "metadata": {},
     "output_type": "execute_result"
    }
   ],
   "source": [
    "movie_rating = pivot_table(df, values=['rating'], index=['title'],aggfunc=np.mean)\n",
    "movie_rating = movie_rating.sort_values(by=['rating'], ascending=False)\n",
    "movie_rating.head(20)"
   ]
  },
  {
   "cell_type": "markdown",
   "metadata": {
    "colab_type": "text",
    "id": "3S593s_lyqgq"
   },
   "source": [
    "### 총 영화 데이터 갯수 : `5897`편"
   ]
  },
  {
   "cell_type": "code",
   "execution_count": 83,
   "metadata": {
    "colab": {
     "base_uri": "https://localhost:8080/",
     "height": 36
    },
    "colab_type": "code",
    "id": "wz6ClCzKaFnM",
    "outputId": "b08c2de9-2e30-4df4-82ca-b7f8d5853a26"
   },
   "outputs": [
    {
     "name": "stdout",
     "output_type": "stream",
     "text": [
      "영화 총 갯수 : 5897 편\n"
     ]
    }
   ],
   "source": [
    "print('영화 총 갯수 :', len(df['movie_id'].unique()), '편')"
   ]
  },
  {
   "cell_type": "markdown",
   "metadata": {
    "colab_type": "text",
    "id": "AON6JI1oy449"
   },
   "source": [
    "### 총 user (명) 수 : `67306`명"
   ]
  },
  {
   "cell_type": "code",
   "execution_count": 85,
   "metadata": {
    "colab": {
     "base_uri": "https://localhost:8080/",
     "height": 36
    },
    "colab_type": "code",
    "id": "TwsYrBrHaFk2",
    "outputId": "4ebbf54d-f749-45f7-cde6-866c3772871e"
   },
   "outputs": [
    {
     "name": "stdout",
     "output_type": "stream",
     "text": [
      "별점을 준 총 user 수 : 67306 명\n"
     ]
    }
   ],
   "source": [
    "print('별점을 준 총 user 수 :', len(df['user_id'].unique()), '명')"
   ]
  },
  {
   "cell_type": "markdown",
   "metadata": {
    "colab_type": "text",
    "id": "4DR7WF5xkTRK"
   },
   "source": [
    "### Spase matrix 인것을 알수 있다"
   ]
  },
  {
   "cell_type": "code",
   "execution_count": 87,
   "metadata": {
    "colab": {
     "base_uri": "https://localhost:8080/",
     "height": 73
    },
    "colab_type": "code",
    "id": "SX-FQr-okjPP",
    "outputId": "28c406e8-351e-4291-9dc9-7c4db83a208a"
   },
   "outputs": [
    {
     "name": "stdout",
     "output_type": "stream",
     "text": [
      "총 user의 명수 : 67306명\n",
      "총 영화 갯수 : 5897편\n",
      "총 rating 갯수 : 181042(396903482)개\n"
     ]
    }
   ],
   "source": [
    "print('총 user의 명수 : {}명'.format(len(df['user_id'].unique())))\n",
    "print('총 영화 갯수 : {}편'.format(len(df['movie_id'].unique())))\n",
    "print('총 rating 갯수 : {}({})개'.format(len(df), len(df['user_id'].unique()) * len(df['movie_id'].unique()))) "
   ]
  },
  {
   "cell_type": "markdown",
   "metadata": {
    "colab_type": "text",
    "id": "x14hfzFyP2iL"
   },
   "source": [
    "# 3. <big>Modeling</big>"
   ]
  },
  {
   "cell_type": "markdown",
   "metadata": {
    "colab_type": "text",
    "id": "yZ8Nf1ztu8qg"
   },
   "source": [
    "## Matrix Low factorization을 통한 방법\n",
    "\n",
    " SVD(Singular Value Decomposition)\n",
    "\n",
    "\n"
   ]
  },
  {
   "cell_type": "code",
   "execution_count": 89,
   "metadata": {
    "colab": {
     "base_uri": "https://localhost:8080/",
     "height": 614
    },
    "colab_type": "code",
    "id": "alRdiQwZWqtD",
    "outputId": "3569fae6-35db-4332-d6c2-df046c8245d1"
   },
   "outputs": [
    {
     "data": {
      "text/plain": [
       "{'test_mae': array([4.03025605, 4.0025141 , 4.01411224, 4.00906688, 4.0181753 ]),\n",
       " 'fit_time': (14.267651796340942,\n",
       "  13.877654075622559,\n",
       "  17.586858987808228,\n",
       "  17.11178493499756,\n",
       "  15.453553199768066),\n",
       " 'test_time': (0.4473710060119629,\n",
       "  0.42775559425354004,\n",
       "  0.7295272350311279,\n",
       "  0.8428299427032471,\n",
       "  0.5131990909576416)}"
      ]
     },
     "execution_count": 89,
     "metadata": {},
     "output_type": "execute_result"
    }
   ],
   "source": [
    "from surprise import SVD, Dataset, Reader, evaluate, NMF, model_selection\n",
    "\n",
    "reader = Reader(rating_scale=(0.5, 5.0))\n",
    "data = Dataset.load_from_df(df[['user_id', 'movie_id', 'rating']], reader)\n",
    "\n",
    "# Singular Value Decomposition\n",
    "algo = SVD()\n",
    "model_selection.cross_validate(algo, data, measures=['MAE'])"
   ]
  },
  {
   "cell_type": "markdown",
   "metadata": {
    "colab_type": "text",
    "id": "k-5EHdb3vwlN"
   },
   "source": [
    "## Keras Deep learning을 이용한 embedding matrix를 이용한 평점 예측\n"
   ]
  },
  {
   "cell_type": "code",
   "execution_count": 90,
   "metadata": {
    "colab": {},
    "colab_type": "code",
    "id": "wHfKyR0reKe_"
   },
   "outputs": [],
   "source": [
    "train, test = train_test_split(df, test_size=0.2)"
   ]
  },
  {
   "cell_type": "code",
   "execution_count": 95,
   "metadata": {
    "colab": {
     "base_uri": "https://localhost:8080/",
     "height": 36
    },
    "colab_type": "code",
    "id": "N_8PhGTreSsU",
    "outputId": "43a337b4-e083-4fcb-a2c7-2816fa141580"
   },
   "outputs": [
    {
     "name": "stdout",
     "output_type": "stream",
     "text": [
      "users_shape = (67306,) movies_shape = (5897,)\n"
     ]
    }
   ],
   "source": [
    "users = df.user_id.unique()\n",
    "movies = df.movie_id.unique()\n",
    "print(\"users_shape =\",users.shape,\"movies_shape =\",movies.shape)  "
   ]
  },
  {
   "cell_type": "markdown",
   "metadata": {},
   "source": [
    "### Model_Factorization(Dot)"
   ]
  },
  {
   "cell_type": "code",
   "execution_count": 96,
   "metadata": {},
   "outputs": [],
   "source": [
    "class ModelFacto:\n",
    "    \n",
    "    def __init__(self, embedding_size, optimizer='adam', loss ='mae', dropout=False, dense=False):\n",
    "        self.embedding_size = embedding_size\n",
    "        self.optimizer = optimizer\n",
    "        self.loss = loss\n",
    "        self.dropout = dropout\n",
    "        self.dense = dense\n",
    "        \n",
    "    def model_layer(self):\n",
    "        # input_layer\n",
    "        user_id_input = Input(shape=[1], name='user')\n",
    "        item_id_input = Input(shape=[1], name='item')\n",
    "        \n",
    "        # embedding_layer\n",
    "        user_embedding = Embedding(output_dim=self.embedding_size, input_dim=users.shape[0],\n",
    "                           input_length=1, name='user_embedding')(user_id_input)\n",
    "        item_embedding = Embedding(output_dim=self.embedding_size, input_dim=movies.shape[0],\n",
    "                           input_length=1, name='item_embedding')(item_id_input)\n",
    "        \n",
    "        \n",
    "            \n",
    "        # flatten layer\n",
    "        user_vecs = Reshape([self.embedding_size])(user_embedding)\n",
    "        item_vecs = Reshape([self.embedding_size])(item_embedding)\n",
    "        \n",
    "        \n",
    "        if self.dropout:\n",
    "            user_vecs = Dropout(0.2, noise_shape=None, seed=None)(user_vecs)\n",
    "            item_vecs = Dropout(0.2, noise_shape=None, seed=None)(item_vecs)\n",
    "\n",
    "        \n",
    "        # Output layer\n",
    "        y = Dot(1, normalize=False)([user_vecs, item_vecs])\n",
    "        \n",
    "        model = Model(inputs=[user_id_input, item_id_input], outputs=y)\n",
    "        \n",
    "        model.compile(loss=self.loss,\n",
    "                      optimizer=self.optimizer)\n",
    "        return model\n",
    "        \n",
    "    \n",
    "    def model_dense_layer(self):\n",
    "        # input_layer\n",
    "        user_id_input = Input(shape=[1], name='user')\n",
    "        item_id_input = Input(shape=[1], name='item')\n",
    "        \n",
    "        # embedding_layer\n",
    "        user_embedding = Embedding(output_dim=self.embedding_size, input_dim=users.shape[0],\n",
    "                           input_length=1, name='user_embedding')(user_id_input)\n",
    "        item_embedding = Embedding(output_dim=self.embedding_size, input_dim=movies.shape[0],\n",
    "                           input_length=1, name='item_embedding')(item_id_input)\n",
    "        \n",
    "        \n",
    "            \n",
    "        # flatten layer\n",
    "        user_vecs = Reshape([self.embedding_size])(user_embedding)\n",
    "        item_vecs = Reshape([self.embedding_size])(item_embedding)\n",
    "        \n",
    "        # Dense\n",
    "        user_vecs = Dense(120, activation='relu')(user_vecs)\n",
    "        item_vecs = Dense(120, activation='relu')(item_vecs)\n",
    "        \n",
    "        if self.dropout:\n",
    "            user_vecs = Dropout(0.2, noise_shape=None, seed=None)(user_vecs)\n",
    "            item_vecs = Dropout(0.2, noise_shape=None, seed=None)(item_vecs)\n",
    "\n",
    "        \n",
    "        # Output layer\n",
    "        y = Dot(1, normalize=False)([user_vecs, item_vecs])\n",
    "        \n",
    "        model = Model(inputs=[user_id_input, item_id_input], outputs=y)\n",
    "        \n",
    "        model.compile(loss=self.loss,\n",
    "                      optimizer=self.optimizer)\n",
    "        return model\n",
    "    \n",
    "        \n",
    "        \n",
    "    def summary(self):\n",
    "        if self.dense:\n",
    "            model = self.model_dense_layer()\n",
    "        else:\n",
    "            model = self.model_layer()\n",
    "            \n",
    "        model.summary()\n",
    "        \n",
    "    def svg(self):\n",
    "        if self.dense:\n",
    "            model = self.model_dense_layer()\n",
    "        else:\n",
    "            model = self.model_layer()\n",
    "        return SVG(model_to_dot(model, show_shapes=True).create(prog='dot', format='svg'))\n",
    "        \n",
    "    def fit(self):\n",
    "        if self.dense:\n",
    "            model = self.model_dense_layer()\n",
    "        else:\n",
    "            model = self.model_layer()\n",
    "        mainpath = '/Users/james/Documents/pyenv/tensorflow/personal_project'\n",
    "        save_path = mainpath + \"/models\"\n",
    "        mytime = time.strftime(\"%Y_%m_%d_%H_%M\")\n",
    "        modname = 'matrix_facto_{}_'.format(self.embedding_size) + mytime \n",
    "        thename = save_path + '/' + modname + '.h5'\n",
    "        mcheck = ModelCheckpoint(thename  , monitor='val_loss', save_best_only=True)\n",
    "        \n",
    "        history = model.fit([train['user_id'], train['movie_id']]\n",
    "                           , train['rating']\n",
    "                           , batch_size=50, epochs=10\n",
    "                           , validation_split=0.1\n",
    "                           , callbacks=[mcheck]\n",
    "                           , shuffle=True)\n",
    "        \n",
    "        with open(mainpath + '/histories/' + modname + '.pkl', 'wb') as file_pi:\n",
    "            pickle.dump(history.history, file_pi)"
   ]
  },
  {
   "cell_type": "code",
   "execution_count": 101,
   "metadata": {},
   "outputs": [],
   "source": [
    "def loss_graph(hisotry_ls):\n",
    "    mainpath = '/Users/james/Documents/pyenv/tensorflow/personal_project'\n",
    "    for val in hisotry_ls:\n",
    "        with open(mainpath + '/histories/' + val, 'rb') as file_pi:\n",
    "            the_pickle = pickle.load(file_pi)\n",
    "            plt.plot(the_pickle['loss'], label='loss_'+val[:15]+val[20:-10], linestyle='--')\n",
    "            plt.plot(the_pickle['val_loss'], label='val_loss_'+val[:15]+val[20:-10])\n",
    "    plt.legend()\n",
    "    plt.ylim(0,10)\n",
    "    \n",
    "    return pd.DataFrame(the_pickle, columns=['loss', 'val_loss']).head(10).transpose()"
   ]
  },
  {
   "cell_type": "code",
   "execution_count": 93,
   "metadata": {
    "colab": {
     "base_uri": "https://localhost:8080/",
     "height": 1802
    },
    "colab_type": "code",
    "id": "8mQZUYRdPMPy",
    "outputId": "c07269e9-c047-40ba-e67f-490a9ac7e609"
   },
   "outputs": [
    {
     "name": "stdout",
     "output_type": "stream",
     "text": [
      "Train on 130349 samples, validate on 14484 samples\n",
      "Epoch 1/10\n",
      "130349/130349 [==============================] - 42s 319us/step - loss: 2.3184 - val_loss: 2.0282\n",
      "Epoch 2/10\n",
      "130349/130349 [==============================] - 44s 335us/step - loss: 1.9210 - val_loss: 2.0328\n",
      "Epoch 3/10\n",
      "130349/130349 [==============================] - 44s 341us/step - loss: 1.6101 - val_loss: 2.1099\n",
      "Epoch 4/10\n",
      "130349/130349 [==============================] - 45s 349us/step - loss: 1.4133 - val_loss: 2.1498\n",
      "Epoch 5/10\n",
      "130349/130349 [==============================] - 46s 357us/step - loss: 1.2901 - val_loss: 2.1777\n",
      "Epoch 6/10\n",
      "130349/130349 [==============================] - 46s 350us/step - loss: 1.2068 - val_loss: 2.1998\n",
      "Epoch 7/10\n",
      "130349/130349 [==============================] - 43s 326us/step - loss: 1.1560 - val_loss: 2.1965\n",
      "Epoch 8/10\n",
      "130349/130349 [==============================] - 44s 334us/step - loss: 1.0826 - val_loss: 2.2076\n",
      "Epoch 9/10\n",
      "130349/130349 [==============================] - 35s 269us/step - loss: 1.0444 - val_loss: 2.2428\n",
      "Epoch 10/10\n",
      "130349/130349 [==============================] - 39s 298us/step - loss: 0.9855 - val_loss: 2.2461\n"
     ]
    }
   ],
   "source": [
    "model_facto_10 = ModelFacto(10,dense=True)\n",
    "model_facto_10.fit()"
   ]
  },
  {
   "cell_type": "code",
   "execution_count": 97,
   "metadata": {
    "colab": {
     "base_uri": "https://localhost:8080/",
     "height": 374
    },
    "colab_type": "code",
    "id": "of5VIBImNIa_",
    "outputId": "57553802-939e-458c-a9c8-c08297f93920"
   },
   "outputs": [
    {
     "name": "stdout",
     "output_type": "stream",
     "text": [
      "Train on 130349 samples, validate on 14484 samples\n",
      "Epoch 1/10\n",
      "130349/130349 [==============================] - 39s 301us/step - loss: 2.4571 - val_loss: 2.0897\n",
      "Epoch 2/10\n",
      "130349/130349 [==============================] - 42s 320us/step - loss: 2.0485 - val_loss: 2.0872\n",
      "Epoch 3/10\n",
      "130349/130349 [==============================] - 42s 324us/step - loss: 1.8277 - val_loss: 2.1829\n",
      "Epoch 4/10\n",
      "130349/130349 [==============================] - 41s 315us/step - loss: 1.6751 - val_loss: 2.2172\n",
      "Epoch 5/10\n",
      "130349/130349 [==============================] - 43s 328us/step - loss: 1.5766 - val_loss: 2.2011\n",
      "Epoch 6/10\n",
      "130349/130349 [==============================] - 46s 354us/step - loss: 1.5082 - val_loss: 2.2465\n",
      "Epoch 7/10\n",
      "130349/130349 [==============================] - 35s 266us/step - loss: 1.4679 - val_loss: 2.2564\n",
      "Epoch 8/10\n",
      "130349/130349 [==============================] - 47s 360us/step - loss: 1.4198 - val_loss: 2.2541\n",
      "Epoch 9/10\n",
      "130349/130349 [==============================] - 50s 385us/step - loss: 1.3837 - val_loss: 2.2661\n",
      "Epoch 10/10\n",
      "130349/130349 [==============================] - 46s 356us/step - loss: 1.3589 - val_loss: 2.2809\n"
     ]
    }
   ],
   "source": [
    "model_facto_10 = ModelFacto(10,dense=True,dropout=True)\n",
    "model_facto_10.fit()"
   ]
  },
  {
   "cell_type": "code",
   "execution_count": 102,
   "metadata": {},
   "outputs": [
    {
     "data": {
      "text/html": [
       "<div>\n",
       "<style scoped>\n",
       "    .dataframe tbody tr th:only-of-type {\n",
       "        vertical-align: middle;\n",
       "    }\n",
       "\n",
       "    .dataframe tbody tr th {\n",
       "        vertical-align: top;\n",
       "    }\n",
       "\n",
       "    .dataframe thead th {\n",
       "        text-align: right;\n",
       "    }\n",
       "</style>\n",
       "<table border=\"1\" class=\"dataframe\">\n",
       "  <thead>\n",
       "    <tr style=\"text-align: right;\">\n",
       "      <th></th>\n",
       "      <th>0</th>\n",
       "      <th>1</th>\n",
       "      <th>2</th>\n",
       "      <th>3</th>\n",
       "      <th>4</th>\n",
       "      <th>5</th>\n",
       "      <th>6</th>\n",
       "      <th>7</th>\n",
       "      <th>8</th>\n",
       "      <th>9</th>\n",
       "    </tr>\n",
       "  </thead>\n",
       "  <tbody>\n",
       "    <tr>\n",
       "      <th>loss</th>\n",
       "      <td>2.457110</td>\n",
       "      <td>2.048535</td>\n",
       "      <td>1.827747</td>\n",
       "      <td>1.675120</td>\n",
       "      <td>1.576622</td>\n",
       "      <td>1.508159</td>\n",
       "      <td>1.467915</td>\n",
       "      <td>1.419754</td>\n",
       "      <td>1.383683</td>\n",
       "      <td>1.358901</td>\n",
       "    </tr>\n",
       "    <tr>\n",
       "      <th>val_loss</th>\n",
       "      <td>2.089661</td>\n",
       "      <td>2.087219</td>\n",
       "      <td>2.182950</td>\n",
       "      <td>2.217211</td>\n",
       "      <td>2.201148</td>\n",
       "      <td>2.246453</td>\n",
       "      <td>2.256449</td>\n",
       "      <td>2.254064</td>\n",
       "      <td>2.266097</td>\n",
       "      <td>2.280948</td>\n",
       "    </tr>\n",
       "  </tbody>\n",
       "</table>\n",
       "</div>"
      ],
      "text/plain": [
       "                 0         1         2         3         4         5  \\\n",
       "loss      2.457110  2.048535  1.827747  1.675120  1.576622  1.508159   \n",
       "val_loss  2.089661  2.087219  2.182950  2.217211  2.201148  2.246453   \n",
       "\n",
       "                 6         7         8         9  \n",
       "loss      1.467915  1.419754  1.383683  1.358901  \n",
       "val_loss  2.256449  2.254064  2.266097  2.280948  "
      ]
     },
     "execution_count": 102,
     "metadata": {},
     "output_type": "execute_result"
    },
    {
     "data": {
      "image/png": "[encoded data removed]",
      "text/plain": [
       "<Figure size 432x288 with 1 Axes>"
      ]
     },
     "metadata": {
      "needs_background": "light"
     },
     "output_type": "display_data"
    }
   ],
   "source": [
    "history_ls = ['embedding_size_10.pkl','dropout_embedding_size_10.pkl']\n",
    "loss_graph(history_ls)"
   ]
  },
  {
   "cell_type": "markdown",
   "metadata": {},
   "source": [
    "### Model_Factorization(Concat)"
   ]
  },
  {
   "cell_type": "code",
   "execution_count": 111,
   "metadata": {},
   "outputs": [],
   "source": [
    "class ModelDense:\n",
    "    \n",
    "    def __init__(self, embedding_size, optimizer='adam', loss ='mae', dropout=False):\n",
    "        self.embedding_size = embedding_size\n",
    "        self.optimizer = optimizer\n",
    "        self.loss = loss\n",
    "        self.dropout = dropout\n",
    "    \n",
    "    def model_layer(self):\n",
    "        # input_layer\n",
    "        user_id_input = Input(shape=[1], name='user')\n",
    "        item_id_input = Input(shape=[1], name='item')\n",
    "        \n",
    "        # embedding_layer\n",
    "        user_embedding = Embedding(output_dim=self.embedding_size, input_dim=users.shape[0],\n",
    "                           input_length=1, name='user_embedding')(user_id_input)\n",
    "        item_embedding = Embedding(output_dim=self.embedding_size, input_dim=movies.shape[0],\n",
    "                           input_length=1, name='item_embedding')(item_id_input)\n",
    "        \n",
    "        # flatten layer\n",
    "        user_vecs = Reshape([self.embedding_size])(user_embedding)\n",
    "        item_vecs = Reshape([self.embedding_size])(item_embedding)\n",
    "        \n",
    "        # Concate two layer(user_vecs, item_vecs)\n",
    "        input_vecs = Concatenate()([user_vecs, item_vecs])\n",
    "        \n",
    "        # Dense layer\n",
    "        x = Dense(128, activation='relu')(input_vecs)\n",
    "        # x = Dense(128, activation='relu')(x)\n",
    "        x = BatchNormalization()(x)\n",
    "        if self.dropout:\n",
    "            x = Dropout(0.2, noise_shape=None, seed=None)(x)\n",
    "            \n",
    "        # Output layer\n",
    "        y = Dense(1)(x)\n",
    "        \n",
    "        model = Model(inputs=[user_id_input, item_id_input], outputs=y)\n",
    "        \n",
    "        model.compile(loss=self.loss,\n",
    "                      optimizer=self.optimizer)\n",
    "        return model\n",
    "    \n",
    "      \n",
    "    \n",
    "        \n",
    "        \n",
    "    def summary(self):\n",
    "        model = self.model_layer()\n",
    "        model.summary()\n",
    "        \n",
    "    def svg(self):\n",
    "        model = self.model_layer()\n",
    "        return SVG(model_to_dot(model, show_shapes=True).create(prog='dot', format='svg'))\n",
    "        \n",
    "    def fit(self):\n",
    "        model = self.model_layer()\n",
    "        mainpath = '/Users/james/Documents/pyenv/tensorflow/personal_project'\n",
    "        save_path = mainpath + \"/models\"\n",
    "        mytime = time.strftime(\"%Y_%m_%d_%H_%M\")\n",
    "        modname = 'dense_{}_'.format(self.embedding_size) + mytime \n",
    "        thename = save_path + '/' + modname + '.h5'\n",
    "        mcheck = ModelCheckpoint(thename  , monitor='val_loss', save_best_only=True)\n",
    "        \n",
    "        history = model.fit([train['user_id'], train['movie_id']]\n",
    "                           , train['rating']\n",
    "                           , batch_size=50, epochs=10\n",
    "                           , validation_split=0.1\n",
    "                           , callbacks=[mcheck]\n",
    "                           , shuffle=True)\n",
    "        \n",
    "        with open(mainpath + '/histories/' + modname + '.pkl', 'wb') as file_pi:\n",
    "            pickle.dump(history.history, file_pi)"
   ]
  },
  {
   "cell_type": "code",
   "execution_count": 109,
   "metadata": {
    "colab": {
     "base_uri": "https://localhost:8080/",
     "height": 34
    },
    "colab_type": "code",
    "id": "soZ1H8iCQLE6",
    "outputId": "824f5603-3472-4197-ad4e-44db0a3d6628"
   },
   "outputs": [
    {
     "name": "stdout",
     "output_type": "stream",
     "text": [
      "Train on 130349 samples, validate on 14484 samples\n",
      "Epoch 1/10\n",
      "130349/130349 [==============================] - 49s 377us/step - loss: 2.3128 - val_loss: 1.9837\n",
      "Epoch 2/10\n",
      "130349/130349 [==============================] - 47s 361us/step - loss: 1.7803 - val_loss: 2.0144\n",
      "Epoch 3/10\n",
      "130349/130349 [==============================] - 48s 370us/step - loss: 1.5202 - val_loss: 2.0555\n",
      "Epoch 4/10\n",
      "130349/130349 [==============================] - 50s 387us/step - loss: 1.3388 - val_loss: 2.0759\n",
      "Epoch 5/10\n",
      "130349/130349 [==============================] - 50s 386us/step - loss: 1.2287 - val_loss: 2.0991\n",
      "Epoch 6/10\n",
      "130349/130349 [==============================] - 51s 389us/step - loss: 1.1557 - val_loss: 2.1074\n",
      "Epoch 7/10\n",
      "130349/130349 [==============================] - 52s 396us/step - loss: 1.0961 - val_loss: 2.1183\n",
      "Epoch 8/10\n",
      "130349/130349 [==============================] - 58s 445us/step - loss: 1.0601 - val_loss: 2.0992\n",
      "Epoch 9/10\n",
      "130349/130349 [==============================] - 44s 337us/step - loss: 1.0224 - val_loss: 2.1234\n",
      "Epoch 10/10\n",
      "130349/130349 [==============================] - 51s 392us/step - loss: 0.9878 - val_loss: 2.1337\n"
     ]
    }
   ],
   "source": [
    "dense_10_128 = ModelDense(10)\n",
    "dense_10_128.fit()"
   ]
  },
  {
   "cell_type": "code",
   "execution_count": 113,
   "metadata": {},
   "outputs": [
    {
     "name": "stdout",
     "output_type": "stream",
     "text": [
      "Train on 130349 samples, validate on 14484 samples\n",
      "Epoch 1/10\n",
      "130349/130349 [==============================] - 56s 428us/step - loss: 2.3963 - val_loss: 2.0118\n",
      "Epoch 2/10\n",
      "130349/130349 [==============================] - 46s 355us/step - loss: 2.0088 - val_loss: 2.0226\n",
      "Epoch 3/10\n",
      "130349/130349 [==============================] - 46s 354us/step - loss: 1.7370 - val_loss: 2.0769\n",
      "Epoch 4/10\n",
      "130349/130349 [==============================] - 46s 355us/step - loss: 1.5657 - val_loss: 2.0970\n",
      "Epoch 5/10\n",
      "130349/130349 [==============================] - 58s 448us/step - loss: 1.4553 - val_loss: 2.1345\n",
      "Epoch 6/10\n",
      "130349/130349 [==============================] - 67s 512us/step - loss: 1.3710 - val_loss: 2.1158\n",
      "Epoch 7/10\n",
      "130349/130349 [==============================] - 58s 445us/step - loss: 1.3075 - val_loss: 2.1405\n",
      "Epoch 8/10\n",
      "130349/130349 [==============================] - 61s 471us/step - loss: 1.2550 - val_loss: 2.2134\n",
      "Epoch 9/10\n",
      "130349/130349 [==============================] - 59s 453us/step - loss: 1.2161 - val_loss: 2.1589\n",
      "Epoch 10/10\n",
      "130349/130349 [==============================] - 57s 439us/step - loss: 1.1838 - val_loss: 2.1800\n"
     ]
    }
   ],
   "source": [
    "dense_10_128 = ModelDense(10, dropout=True)\n",
    "dense_10_128.fit()"
   ]
  },
  {
   "cell_type": "code",
   "execution_count": 114,
   "metadata": {
    "colab": {},
    "colab_type": "code",
    "id": "hYIpV41D6ZPU"
   },
   "outputs": [
    {
     "data": {
      "text/html": [
       "<div>\n",
       "<style scoped>\n",
       "    .dataframe tbody tr th:only-of-type {\n",
       "        vertical-align: middle;\n",
       "    }\n",
       "\n",
       "    .dataframe tbody tr th {\n",
       "        vertical-align: top;\n",
       "    }\n",
       "\n",
       "    .dataframe thead th {\n",
       "        text-align: right;\n",
       "    }\n",
       "</style>\n",
       "<table border=\"1\" class=\"dataframe\">\n",
       "  <thead>\n",
       "    <tr style=\"text-align: right;\">\n",
       "      <th></th>\n",
       "      <th>0</th>\n",
       "      <th>1</th>\n",
       "      <th>2</th>\n",
       "      <th>3</th>\n",
       "      <th>4</th>\n",
       "      <th>5</th>\n",
       "      <th>6</th>\n",
       "      <th>7</th>\n",
       "      <th>8</th>\n",
       "      <th>9</th>\n",
       "    </tr>\n",
       "  </thead>\n",
       "  <tbody>\n",
       "    <tr>\n",
       "      <th>loss</th>\n",
       "      <td>2.396313</td>\n",
       "      <td>2.008781</td>\n",
       "      <td>1.737041</td>\n",
       "      <td>1.565716</td>\n",
       "      <td>1.455301</td>\n",
       "      <td>1.371047</td>\n",
       "      <td>1.307469</td>\n",
       "      <td>1.254981</td>\n",
       "      <td>1.216125</td>\n",
       "      <td>1.183778</td>\n",
       "    </tr>\n",
       "    <tr>\n",
       "      <th>val_loss</th>\n",
       "      <td>2.011846</td>\n",
       "      <td>2.022570</td>\n",
       "      <td>2.076876</td>\n",
       "      <td>2.096982</td>\n",
       "      <td>2.134501</td>\n",
       "      <td>2.115814</td>\n",
       "      <td>2.140504</td>\n",
       "      <td>2.213368</td>\n",
       "      <td>2.158934</td>\n",
       "      <td>2.180046</td>\n",
       "    </tr>\n",
       "  </tbody>\n",
       "</table>\n",
       "</div>"
      ],
      "text/plain": [
       "                 0         1         2         3         4         5  \\\n",
       "loss      2.396313  2.008781  1.737041  1.565716  1.455301  1.371047   \n",
       "val_loss  2.011846  2.022570  2.076876  2.096982  2.134501  2.115814   \n",
       "\n",
       "                 6         7         8         9  \n",
       "loss      1.307469  1.254981  1.216125  1.183778  \n",
       "val_loss  2.140504  2.213368  2.158934  2.180046  "
      ]
     },
     "execution_count": 114,
     "metadata": {},
     "output_type": "execute_result"
    },
    {
     "data": {
      "image/png": "[encoded data removed]",
      "text/plain": [
       "<Figure size 432x288 with 1 Axes>"
      ]
     },
     "metadata": {
      "needs_background": "light"
     },
     "output_type": "display_data"
    }
   ],
   "source": [
    "history_ls = ['concat_10.pkl','dropout_concat_10.pkl']\n",
    "loss_graph(history_ls)"
   ]
  },
  {
   "cell_type": "code",
   "execution_count": 115,
   "metadata": {},
   "outputs": [
    {
     "data": {
      "text/html": [
       "<div>\n",
       "<style scoped>\n",
       "    .dataframe tbody tr th:only-of-type {\n",
       "        vertical-align: middle;\n",
       "    }\n",
       "\n",
       "    .dataframe tbody tr th {\n",
       "        vertical-align: top;\n",
       "    }\n",
       "\n",
       "    .dataframe thead th {\n",
       "        text-align: right;\n",
       "    }\n",
       "</style>\n",
       "<table border=\"1\" class=\"dataframe\">\n",
       "  <thead>\n",
       "    <tr style=\"text-align: right;\">\n",
       "      <th></th>\n",
       "      <th>0</th>\n",
       "      <th>1</th>\n",
       "      <th>2</th>\n",
       "      <th>3</th>\n",
       "      <th>4</th>\n",
       "      <th>5</th>\n",
       "      <th>6</th>\n",
       "      <th>7</th>\n",
       "      <th>8</th>\n",
       "      <th>9</th>\n",
       "    </tr>\n",
       "  </thead>\n",
       "  <tbody>\n",
       "    <tr>\n",
       "      <th>loss</th>\n",
       "      <td>2.312789</td>\n",
       "      <td>1.780287</td>\n",
       "      <td>1.520182</td>\n",
       "      <td>1.338846</td>\n",
       "      <td>1.228739</td>\n",
       "      <td>1.155692</td>\n",
       "      <td>1.096115</td>\n",
       "      <td>1.060149</td>\n",
       "      <td>1.022418</td>\n",
       "      <td>0.987802</td>\n",
       "    </tr>\n",
       "    <tr>\n",
       "      <th>val_loss</th>\n",
       "      <td>1.983727</td>\n",
       "      <td>2.014449</td>\n",
       "      <td>2.055519</td>\n",
       "      <td>2.075928</td>\n",
       "      <td>2.099075</td>\n",
       "      <td>2.107441</td>\n",
       "      <td>2.118305</td>\n",
       "      <td>2.099236</td>\n",
       "      <td>2.123363</td>\n",
       "      <td>2.133741</td>\n",
       "    </tr>\n",
       "  </tbody>\n",
       "</table>\n",
       "</div>"
      ],
      "text/plain": [
       "                 0         1         2         3         4         5  \\\n",
       "loss      2.312789  1.780287  1.520182  1.338846  1.228739  1.155692   \n",
       "val_loss  1.983727  2.014449  2.055519  2.075928  2.099075  2.107441   \n",
       "\n",
       "                 6         7         8         9  \n",
       "loss      1.096115  1.060149  1.022418  0.987802  \n",
       "val_loss  2.118305  2.099236  2.123363  2.133741  "
      ]
     },
     "execution_count": 115,
     "metadata": {},
     "output_type": "execute_result"
    },
    {
     "data": {
      "image/png": "[encoded data removed]",
      "text/plain": [
       "<Figure size 432x288 with 1 Axes>"
      ]
     },
     "metadata": {
      "needs_background": "light"
     },
     "output_type": "display_data"
    }
   ],
   "source": [
    "history_ls = ['embedding_size_10.pkl','concat_10.pkl']\n",
    "loss_graph(history_ls)"
   ]
  },
  {
   "cell_type": "code",
   "execution_count": null,
   "metadata": {},
   "outputs": [],
   "source": []
  }
 ],
 "metadata": {
  "accelerator": "GPU",
  "colab": {
   "collapsed_sections": [
    "LXTPHkMNvvFl",
    "D032P2NBwSq0",
    "0DXzzyUYw2xp",
    "rknK-Uz9zzwU",
    "VS7eHVjUzzrm",
    "7NuT4hIhzz2_",
    "3S593s_lyqgq",
    "AON6JI1oy449",
    "qw7391X6_5tj",
    "4DR7WF5xkTRK",
    "yZ8Nf1ztu8qg",
    "qaFeDGYebPoO",
    "TMhfsaWNX7TD"
   ],
   "name": "project.ipynb",
   "provenance": [],
   "version": "0.3.2"
  },
  "kernelspec": {
   "display_name": "Python 3",
   "language": "python",
   "name": "python3"
  },
  "language_info": {
   "codemirror_mode": {
    "name": "ipython",
    "version": 3
   },
   "file_extension": ".py",
   "mimetype": "text/x-python",
   "name": "python",
   "nbconvert_exporter": "python",
   "pygments_lexer": "ipython3",
   "version": "3.6.0"
  }
 },
 "nbformat": 4,
 "nbformat_minor": 1
}
